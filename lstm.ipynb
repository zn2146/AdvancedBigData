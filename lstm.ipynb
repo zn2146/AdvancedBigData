{
 "cells": [
  {
   "cell_type": "code",
   "execution_count": 418,
   "metadata": {},
   "outputs": [],
   "source": [
    "import tushare as ts\n",
    "import datetime\n",
    "import matplotlib.pyplot as plt\n",
    "import numpy as np\n",
    "from keras.layers.core import Dense, Activation, Dropout\n",
    "from keras.layers.recurrent import LSTM\n",
    "from keras.models import Sequential\n",
    "import pandas as pd"
   ]
  },
  {
   "cell_type": "code",
   "execution_count": null,
   "metadata": {
    "collapsed": true
   },
   "outputs": [],
   "source": []
  },
  {
   "cell_type": "code",
   "execution_count": 481,
   "metadata": {
    "collapsed": true
   },
   "outputs": [],
   "source": [
    "def train_test_split(data,SEQ_LENGTH = 25,test_prop=0.3):\n",
    "    #data = data.sort_index()\n",
    "    ntrain = int(len(data) *(1-test_prop))\n",
    "    predictors = data.columns[:4]\n",
    "    norms = data[predictors].apply(np.linalg.norm)\n",
    "    data_pred = data[predictors] /norms\n",
    "    num_attr = data_pred.shape[1]\n",
    "    result = np.empty((len(data) - SEQ_LENGTH - 1, SEQ_LENGTH, num_attr))\n",
    "    y = np.empty(len(data) - SEQ_LENGTH - 1)\n",
    "    yopen = np.empty(len(data) - SEQ_LENGTH - 1)\n",
    "\n",
    "    for index in range(len(data) - SEQ_LENGTH - 1):\n",
    "        result[index, :, :] = data_pred[index: index + SEQ_LENGTH]\n",
    "        #y[index] = data.iloc[index + SEQ_LENGTH + 1].close\n",
    "        y[index] = data.iloc[index + SEQ_LENGTH + 1].label\n",
    "        #yopen[index] = data.iloc[index + SEQ_LENGTH + 1].open\n",
    "\n",
    "    xtrain = result[:ntrain, :, :]\n",
    "    ytrain = y[:ntrain]\n",
    "    xtest = result[ntrain:, :, :]\n",
    "    ytest = y[ntrain:]\n",
    "    ytest_open = yopen[ntrain:]\n",
    "    return xtrain, xtest, ytrain, ytest#, ytest_open"
   ]
  },
  {
   "cell_type": "code",
   "execution_count": 482,
   "metadata": {
    "collapsed": true
   },
   "outputs": [],
   "source": [
    "def train_model(xtrain,ytrain,SEQ_LENGTH=25,N_HIDDEN=256):\n",
    "    # SEQ_LENGTH = 25  # Sequence Length, or # of days of trading\n",
    "    # N_HIDDEN = 256  # Number of units in the hidden (LSTM) layers\n",
    "    # num_attr = 4  # Number of predictors used for each trading day\n",
    "    num_attr = xtrain.shape[2]\n",
    "    model = Sequential()\n",
    "    \n",
    "    \n",
    "    model.add(LSTM(N_HIDDEN, return_sequences=True, activation='tanh', input_shape=(SEQ_LENGTH, num_attr)))\n",
    "    model.add(Dropout(0.5))\n",
    "    model.add(LSTM(N_HIDDEN, return_sequences=False, activation='relu'))\n",
    "    model.add(Dropout(0.5))\n",
    "    #model.add(Dense(1, activation='sigmoid'))\n",
    "    model.add(Dense(1))\n",
    "    model.add(Activation('sigmoid'))\n",
    "    #model.compile(loss=\"mean_squared_error\", optimizer='adam')  ## optimizer = 'rmsprop'\n",
    "    model.compile(loss='binary_crossentropy', optimizer='rmsprop', metrics=['accuracy'])      \n",
    "    model.fit(xtrain, ytrain, batch_size=50, epochs=10, validation_split=0.0)\n",
    "    return model"
   ]
  },
  {
   "cell_type": "code",
   "execution_count": 483,
   "metadata": {
    "collapsed": true
   },
   "outputs": [],
   "source": [
    "\n",
    "def predict(model,xtest):\n",
    "    predicted = model.predict(xtest)\n",
    "    return predicted"
   ]
  },
  {
   "cell_type": "code",
   "execution_count": 484,
   "metadata": {},
   "outputs": [
    {
     "name": "stdout",
     "output_type": "stream",
     "text": [
      "name                工商银行\n",
      "industry              银行\n",
      "timeToMarket    20061027\n",
      "Name: 601398, dtype: object\n"
     ]
    },
    {
     "name": "stderr",
     "output_type": "stream",
     "text": [
      "/Users/zj/anaconda/envs/tfdeeplearning/lib/python3.5/site-packages/ipykernel_launcher.py:6: DeprecationWarning: \n",
      ".ix is deprecated. Please use\n",
      ".loc for label based indexing or\n",
      ".iloc for positional indexing\n",
      "\n",
      "See the documentation here:\n",
      "http://pandas.pydata.org/pandas-docs/stable/indexing.html#ix-indexer-is-deprecated\n",
      "  \n"
     ]
    }
   ],
   "source": [
    "\n",
    "code = '601398'\n",
    "today = datetime.datetime.today().strftime('%Y-%m-%d')\n",
    "\n",
    "df = ts.get_stock_basics()\n",
    "print (df.ix[code][['name', 'industry', 'timeToMarket']])"
   ]
  },
  {
   "cell_type": "code",
   "execution_count": 485,
   "metadata": {},
   "outputs": [],
   "source": [
    "#data = get_data(code, end=today, duration=1000)\n",
    "#print( {'data.shape':data.shape})\n",
    "#data[:5]\n",
    "gongshang = pd.read_csv('price_gongshang.csv')\n"
   ]
  },
  {
   "cell_type": "code",
   "execution_count": 486,
   "metadata": {},
   "outputs": [
    {
     "data": {
      "text/plain": [
       "Index(['open', 'high', 'close', 'low'], dtype='object')"
      ]
     },
     "execution_count": 486,
     "metadata": {},
     "output_type": "execute_result"
    }
   ],
   "source": [
    "price_gongshang = gongshang.iloc[:,[1,2,3,4,20,21,22,23]]\n",
    "#price_gongshang\n",
    "price_gongshang.columns[:4]\n"
   ]
  },
  {
   "cell_type": "code",
   "execution_count": 487,
   "metadata": {},
   "outputs": [],
   "source": [
    "\n",
    "xtrain, xtest, ytrain, ytest = train_test_split(price_gongshang)\n",
    "from keras.utils import np_utils\n",
    "#Y_train = np_utils.to_categorical(ytrain, 3)\n",
    "#Y_train.shape\n",
    "#Y_test = np_utils.to_categorical(ytest, 3)"
   ]
  },
  {
   "cell_type": "code",
   "execution_count": 488,
   "metadata": {},
   "outputs": [
    {
     "name": "stdout",
     "output_type": "stream",
     "text": [
      "{'xtest.shape': (194, 25, 4), 'xtrain.shape': (513, 25, 4)}\n",
      "{'ytrain.shape': (513,), 'ytest.shape': (194,)}\n"
     ]
    }
   ],
   "source": [
    "print( {'xtrain.shape':xtrain.shape, 'xtest.shape':xtest.shape})\n",
    "print ({'ytrain.shape':ytrain.shape, 'ytest.shape':ytest.shape})"
   ]
  },
  {
   "cell_type": "code",
   "execution_count": 489,
   "metadata": {},
   "outputs": [
    {
     "name": "stdout",
     "output_type": "stream",
     "text": [
      "Epoch 1/10\n",
      "513/513 [==============================] - 9s 18ms/step - loss: 1.1118 - acc: 0.6569\n",
      "Epoch 2/10\n",
      "513/513 [==============================] - 3s 5ms/step - loss: 0.6557 - acc: 0.6550\n",
      "Epoch 3/10\n",
      "513/513 [==============================] - 3s 5ms/step - loss: 0.6477 - acc: 0.6550\n",
      "Epoch 4/10\n",
      "513/513 [==============================] - 3s 5ms/step - loss: 0.6503 - acc: 0.6550\n",
      "Epoch 5/10\n",
      "513/513 [==============================] - 3s 5ms/step - loss: 0.6508 - acc: 0.6550\n",
      "Epoch 6/10\n",
      "513/513 [==============================] - 3s 6ms/step - loss: 0.6477 - acc: 0.6550\n",
      "Epoch 7/10\n",
      "513/513 [==============================] - 3s 5ms/step - loss: 0.6648 - acc: 0.6550\n",
      "Epoch 8/10\n",
      "513/513 [==============================] - 3s 5ms/step - loss: 0.6472 - acc: 0.6550\n",
      "Epoch 9/10\n",
      "513/513 [==============================] - 3s 5ms/step - loss: 0.6357 - acc: 0.6550\n",
      "Epoch 10/10\n",
      "513/513 [==============================] - 3s 5ms/step - loss: 5.5006 - acc: 0.6550\n"
     ]
    }
   ],
   "source": [
    "model = train_model(xtrain,ytrain)"
   ]
  },
  {
   "cell_type": "code",
   "execution_count": 491,
   "metadata": {},
   "outputs": [
    {
     "data": {
      "text/plain": [
       "0.60309278350515461"
      ]
     },
     "execution_count": 491,
     "metadata": {},
     "output_type": "execute_result"
    }
   ],
   "source": [
    "_,acc = model.evaluate(xtest, ytest,verbose=0)\n",
    "acc"
   ]
  },
  {
   "cell_type": "code",
   "execution_count": 494,
   "metadata": {},
   "outputs": [],
   "source": [
    "pred_test = model.predict(xtest)\n",
    "#predicted_tr = model.predict(xtrain)\n",
    "#pred_test"
   ]
  },
  {
   "cell_type": "code",
   "execution_count": null,
   "metadata": {},
   "outputs": [],
   "source": []
  },
  {
   "cell_type": "code",
   "execution_count": 84,
   "metadata": {},
   "outputs": [
    {
     "data": {
      "image/png": "[encoded data removed]",
      "text/plain": [
       "<matplotlib.figure.Figure at 0x125e01dd8>"
      ]
     },
     "metadata": {},
     "output_type": "display_data"
    }
   ],
   "source": [
    "predicted_test = model.predict(xtest)\n",
    "plt.plot(ytest, label='true values')\n",
    "plt.plot(predicted_test, label='predicted  values')\n",
    "plt.legend()\n",
    "plt.title('test data')\n",
    "plt.show()"
   ]
  },
  {
   "cell_type": "code",
   "execution_count": 85,
   "metadata": {},
   "outputs": [],
   "source": [
    "ytest\n",
    "label = np.zeros(len(ytest))\n",
    "label[0] = 0\n",
    "for i in range(1,len(ytest)):\n",
    "    \n",
    "    if ytest[i] >= ytest[i-1]:\n",
    "        label[i] = 1\n",
    "    else: label[i] = 0\n",
    "\n"
   ]
  },
  {
   "cell_type": "code",
   "execution_count": 86,
   "metadata": {},
   "outputs": [],
   "source": [
    "predicted_test\n",
    "label_pred = np.zeros(len(predicted_test))\n",
    "label_pred[0] = 0\n",
    "for i in range(1,len(predicted_test)):\n",
    "    \n",
    "    if predicted_test[i] >= predicted_test[i-1]:\n",
    "        label_pred[i] = 1\n",
    "    else: label_pred[i] = 0\n"
   ]
  },
  {
   "cell_type": "code",
   "execution_count": null,
   "metadata": {},
   "outputs": [],
   "source": []
  },
  {
   "cell_type": "code",
   "execution_count": null,
   "metadata": {},
   "outputs": [],
   "source": []
  },
  {
   "cell_type": "code",
   "execution_count": null,
   "metadata": {
    "collapsed": true
   },
   "outputs": [],
   "source": []
  },
  {
   "cell_type": "code",
   "execution_count": null,
   "metadata": {
    "collapsed": true
   },
   "outputs": [],
   "source": []
  }
 ],
 "metadata": {
  "kernelspec": {
   "display_name": "Python 3",
   "language": "python",
   "name": "python3"
  },
  "language_info": {
   "codemirror_mode": {
    "name": "ipython",
    "version": 3
   },
   "file_extension": ".py",
   "mimetype": "text/x-python",
   "name": "python",
   "nbconvert_exporter": "python",
   "pygments_lexer": "ipython3",
   "version": "3.5.4"
  }
 },
 "nbformat": 4,
 "nbformat_minor": 2
}
